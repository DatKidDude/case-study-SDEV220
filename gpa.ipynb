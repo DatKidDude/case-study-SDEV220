{
 "cells": [
  {
   "cell_type": "markdown",
   "id": "527737bd",
   "metadata": {},
   "source": [
    "# Craig Giddings\n",
    "\n",
    "# gpa.ipynb\n",
    "\n",
    "#### This app continously accepts student names and their GPAs. If the user enters ZZZ then the app stops. Otherwise the students GPA will be checked to see if they made the Dean's List or the Honor Roll. If student's GPA was less than 3.25 then a message prints saying the student did not make the Dean's List or the Honor Roll"
   ]
  },
  {
   "cell_type": "code",
   "execution_count": 13,
   "id": "6aec91a7",
   "metadata": {
    "scrolled": true
   },
   "outputs": [
    {
     "name": "stdout",
     "output_type": "stream",
     "text": [
      "Please enter the student's last name or [ZZZ in all caps to quit]: Baker\n",
      "Please enter the student's first name: Tom\n",
      "Please enter Tom Baker's gpa: 3.6\n",
      "Tom Baker has made the Dean's List\n",
      "\n",
      "Please enter the student's last name or [ZZZ in all caps to quit]: Linger\n",
      "Please enter the student's first name: Justin\n",
      "Please enter Justin Linger's gpa: 3.5\n",
      "Justin Linger has made the Dean's List\n",
      "\n",
      "Please enter the student's last name or [ZZZ in all caps to quit]: Judge\n",
      "Please enter the student's first name: Aaron\n",
      "Please enter Aaron Judge's gpa: 3.3\n",
      "Aaron Judge has made the Honor Roll\n",
      "\n",
      "Please enter the student's last name or [ZZZ in all caps to quit]: Joel\n",
      "Please enter the student's first name: Billy\n",
      "Please enter Billy Joel's gpa: 3.25\n",
      "Billy Joel has made the Honor Roll\n",
      "\n",
      "Please enter the student's last name or [ZZZ in all caps to quit]: Benson\n",
      "Please enter the student's first name: Jack\n",
      "Please enter Jack Benson's gpa: 3\n",
      "Jack Benson did not make the Dean's List or the Honor Roll\n",
      "\n",
      "Please enter the student's last name or [ZZZ in all caps to quit]: ZZZ\n",
      "Closing program\n"
     ]
    }
   ],
   "source": [
    "while True:\n",
    "    \n",
    "    last_name = input(\"Please enter the student's last name or [ZZZ in all caps to quit]: \")\n",
    "\n",
    "    if last_name == \"ZZZ\": # if last_name === \"ZZZ\" exit the loop\n",
    "        print(\"Closing program\")\n",
    "        break\n",
    "    \n",
    "    first_name = input(\"Please enter the student's first name: \")\n",
    "    student = first_name + \" \" + last_name # concatenate first and last name\n",
    "    gpa = float(input(f\"Please enter {student}'s gpa: \")) # change gpa to a float\n",
    "\n",
    "    if gpa >= 3.5: # if gpa is greater than or equal to 3.5 continue\n",
    "        print(f\"{student} has made the Dean's List\\n\")    \n",
    "    elif gpa >= 3.25: # if gpa is greater than or equal to 3.25 continue\n",
    "        print(f\"{student} has made the Honor Roll\\n\")   \n",
    "    else: # if gpa is less than 3.25 \n",
    "        print(f\"{student} did not make the Dean's List or the Honor Roll\\n\")\n",
    "        "
   ]
  },
  {
   "cell_type": "markdown",
   "id": "60797459",
   "metadata": {},
   "source": [
    "# Trying out the walrus operator\n",
    "\n",
    "### curious if I could make this shorter"
   ]
  },
  {
   "cell_type": "code",
   "execution_count": 11,
   "id": "081d137e",
   "metadata": {},
   "outputs": [
    {
     "name": "stdout",
     "output_type": "stream",
     "text": [
      "Please enter the student's last name or [ZZZ in all caps to quit]: Baker\n",
      "Please enter the student's first name: Tom\n",
      "Please enter Tom Baker's gpa: 3.6\n",
      "Tom Baker has made the Dean's List\n",
      "\n",
      "Please enter the student's last name or [ZZZ in all caps to quit]: Linger\n",
      "Please enter the student's first name: Justin\n",
      "Please enter Justin Linger's gpa: 3.5\n",
      "Justin Linger has made the Dean's List\n",
      "\n",
      "Please enter the student's last name or [ZZZ in all caps to quit]: Judge\n",
      "Please enter the student's first name: Aaron\n",
      "Please enter Aaron Judge's gpa: 3.3\n",
      "Aaron Judge has made the Honor Roll\n",
      "\n",
      "Please enter the student's last name or [ZZZ in all caps to quit]: Joel\n",
      "Please enter the student's first name: Billy\n",
      "Please enter Billy Joel's gpa: 3.25\n",
      "Billy Joel has made the Honor Roll\n",
      "\n",
      "Please enter the student's last name or [ZZZ in all caps to quit]: Benson\n",
      "Please enter the student's first name: Jack\n",
      "Please enter Jack Benson's gpa: 3\n",
      "Jack Benson did not make the Dean's List or the Honor Roll\n",
      "\n",
      "Please enter the student's last name or [ZZZ in all caps to quit]: ZZZ\n",
      "Closing program\n"
     ]
    }
   ],
   "source": [
    "\n",
    "while (last_name := input(\"Please enter the student's last name or [ZZZ in all caps to quit]: \")) != \"ZZZ\":\n",
    "    \n",
    "    first_name = input(\"Please enter the student's first name: \")\n",
    "    student = first_name + \" \" + last_name # concatenate first and last name\n",
    "    gpa = float(input(f\"Please enter {student}'s gpa: \")) # change gpa to a float\n",
    "\n",
    "    if gpa >= 3.5: # if gpa is greater than or equal to 3.5 continue\n",
    "        print(f\"{student} has made the Dean's List\\n\")    \n",
    "    elif gpa >= 3.25: # if gpa is greater than or equal to 3.25 continue\n",
    "        print(f\"{student} has made the Honor Roll\\n\")   \n",
    "    else: # if gpa is less than 3.25 \n",
    "        print(f\"{student} did not make the Dean's List or the Honor Roll\\n\")\n",
    "\n",
    "print(\"Closing program\")\n",
    "    \n",
    "    "
   ]
  }
 ],
 "metadata": {
  "kernelspec": {
   "display_name": "Python 3 (ipykernel)",
   "language": "python",
   "name": "python3"
  },
  "language_info": {
   "codemirror_mode": {
    "name": "ipython",
    "version": 3
   },
   "file_extension": ".py",
   "mimetype": "text/x-python",
   "name": "python",
   "nbconvert_exporter": "python",
   "pygments_lexer": "ipython3",
   "version": "3.10.9"
  }
 },
 "nbformat": 4,
 "nbformat_minor": 5
}
